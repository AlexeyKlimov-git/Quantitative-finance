{
 "cells": [
  {
   "cell_type": "markdown",
   "id": "600d189f",
   "metadata": {},
   "source": [
    "# Прайсинг облигации от ВТБ"
   ]
  },
  {
   "cell_type": "markdown",
   "id": "437c0f7c",
   "metadata": {},
   "source": [
    "###### Изучаем питч"
   ]
  },
  {
   "cell_type": "markdown",
   "id": "51fdc8e9",
   "metadata": {},
   "source": [
    "https://www.vtb.ru/-/media/Files/personal/investicii/iovtb/116IOusdrub.pdf"
   ]
  },
  {
   "cell_type": "markdown",
   "id": "323c7919",
   "metadata": {},
   "source": [
    "###### Определяем fixed income часть "
   ]
  },
  {
   "cell_type": "code",
   "execution_count": 39,
   "id": "8933ce85",
   "metadata": {},
   "outputs": [
    {
     "data": {
      "text/plain": [
       "0.071"
      ]
     },
     "execution_count": 39,
     "metadata": {},
     "output_type": "execute_result"
    }
   ],
   "source": [
    "# В качестве безрисковой ставки в % годовых берем бескупонную доходность ОФЗ c сайта https://www.cbr.ru/hd_base/zcyc_params/zcyc/\n",
    "# Ставка взята для срока погашения пол года\n",
    "rate=7.1/100\n",
    "rate"
   ]
  },
  {
   "cell_type": "code",
   "execution_count": 40,
   "id": "a5649b67",
   "metadata": {},
   "outputs": [
    {
     "data": {
      "text/plain": [
       "0.5"
      ]
     },
     "execution_count": 40,
     "metadata": {},
     "output_type": "execute_result"
    }
   ],
   "source": [
    "# Срок погашения в годах\n",
    "tenor=0.5\n",
    "tenor"
   ]
  },
  {
   "cell_type": "code",
   "execution_count": 41,
   "id": "bc46b22c",
   "metadata": {},
   "outputs": [
    {
     "data": {
      "text/plain": [
       "0.0001"
      ]
     },
     "execution_count": 41,
     "metadata": {},
     "output_type": "execute_result"
    }
   ],
   "source": [
    "# Размер купона по облигации в % годовых\n",
    "coupon_per=0.01/100\n",
    "coupon_per"
   ]
  },
  {
   "cell_type": "code",
   "execution_count": 42,
   "id": "0041fbed",
   "metadata": {},
   "outputs": [
    {
     "data": {
      "text/plain": [
       "0.05"
      ]
     },
     "execution_count": 42,
     "metadata": {},
     "output_type": "execute_result"
    }
   ],
   "source": [
    "# Размер купона по облигации в рублях за пол года\n",
    "coupon_rub=coupon_per*1000/2\n",
    "coupon_rub"
   ]
  },
  {
   "cell_type": "code",
   "execution_count": 43,
   "id": "2d15d96c",
   "metadata": {},
   "outputs": [
    {
     "data": {
      "text/plain": [
       "96.5765330758088"
      ]
     },
     "execution_count": 43,
     "metadata": {},
     "output_type": "execute_result"
    }
   ],
   "source": [
    "# Дисконтируем стоимость облигации, то есть определяемстоимость fixed income части с учетом ставик и купона\n",
    "# учитываем также выплату по купону\n",
    "# итоговая формула дисконтирования стоимости облигации bond_price_PV=(nominal+coupon_rub/nominal)/(1+r/2) %\n",
    "bond_price_per=(1+coupon_rub/1000)/(1+rate/2)*100\n",
    "bond_price_per"
   ]
  },
  {
   "cell_type": "code",
   "execution_count": 44,
   "id": "bd174c26",
   "metadata": {},
   "outputs": [
    {
     "data": {
      "text/plain": [
       "965.765330758088"
      ]
     },
     "execution_count": 44,
     "metadata": {},
     "output_type": "execute_result"
    }
   ],
   "source": [
    "# стоимость облигации bond_price_PV в руб\n",
    "bond_price_rub=bond_price_per*1000/100\n",
    "bond_price_rub"
   ]
  },
  {
   "cell_type": "markdown",
   "id": "50abb0c8",
   "metadata": {},
   "source": [
    "###### Определяем дисконт облигации "
   ]
  },
  {
   "cell_type": "code",
   "execution_count": 45,
   "id": "85f651a6",
   "metadata": {},
   "outputs": [
    {
     "data": {
      "text/plain": [
       "3.423466924191203"
      ]
     },
     "execution_count": 45,
     "metadata": {},
     "output_type": "execute_result"
    }
   ],
   "source": [
    "# дисконт определяем как разность 100% - bond_price_per  %\n",
    "discount_per = 100 - bond_price_per\n",
    "discount_per"
   ]
  },
  {
   "cell_type": "code",
   "execution_count": 46,
   "id": "84a527fc",
   "metadata": {},
   "outputs": [
    {
     "data": {
      "text/plain": [
       "34.23466924191203"
      ]
     },
     "execution_count": 46,
     "metadata": {},
     "output_type": "execute_result"
    }
   ],
   "source": [
    "# дисконт в руб\n",
    "discount_rub = discount_per*1000/100\n",
    "discount_rub"
   ]
  },
  {
   "cell_type": "markdown",
   "id": "56c94d63",
   "metadata": {},
   "source": [
    "###### Считаем стоимость опциона из описания доп. дохода в питч ВТБ для 100% номинала"
   ]
  },
  {
   "cell_type": "code",
   "execution_count": 47,
   "id": "e5435951",
   "metadata": {},
   "outputs": [],
   "source": [
    "# Оценим стоимость цифрового (бинарного) опциона как указано в Hull (26.10 BINARY OPTIONS)\n",
    "# нам нужно рассчитывать цену опиона cash-or-nothing put на валютную пару USDRUB\n",
    "# The value of a cash-or-nothing put is p_digital=Q*exp(-r*T)*N(-d2)"
   ]
  },
  {
   "cell_type": "code",
   "execution_count": 48,
   "id": "bc1d01ae",
   "metadata": {},
   "outputs": [
    {
     "data": {
      "text/plain": [
       "50.0"
      ]
     },
     "execution_count": 48,
     "metadata": {},
     "output_type": "execute_result"
    }
   ],
   "source": [
    "# определяем потенциальный платеж по опциону Q (получаем эту величину, если выполняется барьерное условие)\n",
    "# доходность опциона Q в случае выполнения барьерного условия 9.5-10% годовых от стоимости пая в 1000 руб, \n",
    "# для простоты будем считать 10%\n",
    "# учитываем срок погашения в пол года\n",
    "Q=0.1*1000*0.5\n",
    "Q"
   ]
  },
  {
   "cell_type": "code",
   "execution_count": 49,
   "id": "f2d3c05f",
   "metadata": {},
   "outputs": [
    {
     "name": "stdout",
     "output_type": "stream",
     "text": [
      "0.071\n",
      "0.5\n",
      "0.0004\n"
     ]
    }
   ],
   "source": [
    "# задаем уже заданные срок погашения T=Tenor, безрисковую ставку РФ r=rate и зарубежную безрисковую ставку (3М облигации США)\n",
    "r=rate\n",
    "T=tenor\n",
    "rf=0.04/100\n",
    "print(r)\n",
    "print(T)\n",
    "print(rf)"
   ]
  },
  {
   "cell_type": "code",
   "execution_count": 54,
   "id": "380cd551",
   "metadata": {},
   "outputs": [
    {
     "name": "stdout",
     "output_type": "stream",
     "text": [
      "Current spot price S= 77.785 rub\n",
      "Strike K = 73.896 rub\n",
      "sigma= 30.0 %\n",
      "N(-d2)= 0.38\n",
      "Digital puts price 18.40 rub\n"
     ]
    }
   ],
   "source": [
    "# рассчитаем стоимсоть опциона\n",
    "\n",
    "# S - текущая цена базисного актива (USDRUB) на 02.10.2020\n",
    "S=77.785\n",
    "print(\"Current spot price S=\",format(S, '.3f'), \"rub\")\n",
    "# K - страйк\n",
    "K=77.785*(1-0.05)\n",
    "print(\"Strike K =\", format(K, '.3f'), \"rub\")\n",
    "# sigma - волатильность, задаем равной 30% согласно требованию задания\n",
    "sigma=0.3\n",
    "print(\"sigma=\", sigma*100,\"%\")\n",
    "\n",
    "# сичтаем коэффициент d2\n",
    "import numpy as np\n",
    "from scipy.stats import norm\n",
    "from math import log, sqrt, pi, exp\n",
    "\n",
    "d2=(np.log(S/K) + (r-rf+sigma**2/2)*T ) /(sigma*T**0.5) - sigma*T**0.5\n",
    "# N(-d2)\n",
    "N=norm.cdf(-d2)\n",
    "print(\"N(-d2)=\", format(N, '.2f'))\n",
    "\n",
    "# сичтаем стоимость опциона put p_digital\n",
    "p_digital = Q*exp(-r*T)*N\n",
    "print(\"Digital puts price\", format(p_digital, '.2f'), \"rub\")"
   ]
  },
  {
   "cell_type": "code",
   "execution_count": 58,
   "id": "0972ced9",
   "metadata": {},
   "outputs": [
    {
     "name": "stdout",
     "output_type": "stream",
     "text": [
      "One put price in points 0.37\n"
     ]
    }
   ],
   "source": [
    "# Расчет стоимости одного опциона в пипсах\n",
    "\n",
    "one_option_price_points=p_digital/Q\n",
    "print(\"One put price in points\", format(one_option_price_points, '.2f'))"
   ]
  },
  {
   "cell_type": "markdown",
   "id": "ced508f9",
   "metadata": {},
   "source": [
    "##### Исходя из заявленного потенциального купона в облигации - определяем на какой номинал необходимо купить опцион, чтобы обеспечить заявленную потенциальную доходность, и определяем итоговую стоимость опциона в % от номинала облигации"
   ]
  },
  {
   "cell_type": "code",
   "execution_count": 59,
   "id": "76786959",
   "metadata": {},
   "outputs": [
    {
     "name": "stdout",
     "output_type": "stream",
     "text": [
      "Option price in % of bond price 1.84 %\n"
     ]
    }
   ],
   "source": [
    "# стоимость опциона в % от номинала облигации 1000 руб\n",
    "p_digital_per_of_bond=p_digital/1000\n",
    "print(\"Option price in % of bond price\", format(p_digital_per_of_bond*100, '.2f'), \"%\")"
   ]
  },
  {
   "cell_type": "code",
   "execution_count": 60,
   "id": "aecf5023",
   "metadata": {},
   "outputs": [
    {
     "name": "stdout",
     "output_type": "stream",
     "text": [
      "Participation is 186.07 %\n"
     ]
    }
   ],
   "source": [
    "# Коэфф участия в %\n",
    "Participation = discount_rub/p_digital*100\n",
    "print(\"Participation is\", format(Participation, '.2f'), \"%\")"
   ]
  },
  {
   "cell_type": "markdown",
   "id": "77155276",
   "metadata": {},
   "source": [
    "# Прайсинг 3Y Reverse Convertible облигации"
   ]
  },
  {
   "cell_type": "code",
   "execution_count": null,
   "id": "2c872da8",
   "metadata": {},
   "outputs": [],
   "source": [
    "# Параметры 3Y Reverse Convertible облигации\n",
    "# Базовый актив - акции ПАО НЛМК"
   ]
  },
  {
   "cell_type": "code",
   "execution_count": null,
   "id": "64f2e8c3",
   "metadata": {},
   "outputs": [],
   "source": [
    "#Зададим номинал 3Y Reverse Convertible облигации\n",
    "Nominal=1000"
   ]
  },
  {
   "cell_type": "code",
   "execution_count": 17,
   "id": "7af2cdb2",
   "metadata": {},
   "outputs": [
    {
     "name": "stdout",
     "output_type": "stream",
     "text": [
      "Current spot price S= 221.900 rub\n",
      "Strike K = 155.330 rub\n",
      "sigma= 30.0 %\n",
      "rate= 7.36 %\n",
      "rate= 3 years\n",
      "N(-d1)= 0.09\n",
      "N(-d2)= 0.20\n",
      "Vanilla put premium = 5.67 rub\n"
     ]
    }
   ],
   "source": [
    "# Посчитаем премию за проданный vanilla опцион пут\n",
    "# S - текущая цена акций НЛМК на 08.10.2020\n",
    "S=221.9\n",
    "print(\"Current spot price S=\",format(S, '.3f'), \"rub\")\n",
    "# K - страйк\n",
    "K=S*(1-0.3)\n",
    "print(\"Strike K =\", format(K, '.3f'), \"rub\")\n",
    "# sigma - волатильность, задаем равной 30% согласно требованию задания\n",
    "sigma=0.3\n",
    "print(\"sigma=\", sigma*100,\"%\")\n",
    "# rate - определяется по кривой доходности ОФЗ на 3-х летний срок\n",
    "r=0.0736\n",
    "print(\"rate=\", format(r*100,'.2f'),\"%\")\n",
    "# time to maturity - время до экспирации опциона\n",
    "T=3\n",
    "print(\"rate=\", T,\"years\")\n",
    "\n",
    "\n",
    "import numpy as np\n",
    "from scipy.stats import norm\n",
    "from math import log, sqrt, pi, exp\n",
    "\n",
    "# сичтаем коэффициенты d1 и d2\n",
    "d1=(np.log(S/K) + (r+sigma**2/2)*T ) /(sigma*T**0.5)\n",
    "d2=d1 - sigma*T**0.5\n",
    "\n",
    "# N(-d1) и  N(-d2) \n",
    "N1=norm.cdf(-d1)\n",
    "N2=norm.cdf(-d2)\n",
    "print(\"N(-d1)=\", format(N1, '.2f'))\n",
    "print(\"N(-d2)=\", format(N2, '.2f'))\n",
    "\n",
    "# сичтаем стоимость опциона put p_digital\n",
    "p = K*exp(-r*T)*N2 - S*N1\n",
    "print(\"Vanilla put premium =\", format(p, '.2f'), \"rub\")"
   ]
  },
  {
   "cell_type": "code",
   "execution_count": 18,
   "id": "b7035a78",
   "metadata": {},
   "outputs": [
    {
     "name": "stdout",
     "output_type": "stream",
     "text": [
      "Vanilla put premium to nominal= 2.55 %\n",
      "Vanilla put premium per year= 0.85 %\n"
     ]
    }
   ],
   "source": [
    "# пересчитаем доходность премии к номиналу в доходность % годовых\n",
    "\n",
    "# доходность в % к номиналу \n",
    "Put_premium_percent=p/S\n",
    "print(\"Vanilla put premium to nominal=\", format(Put_premium_percent*100, '.2f'), \"%\")\n",
    "# доходность по премии в % годовых\n",
    "Put_premium_percent_per_year=Put_premium_percent/T\n",
    "print(\"Vanilla put premium per year=\", format(Put_premium_percent_per_year*100, '.2f'), \"%\")"
   ]
  }
 ],
 "metadata": {
  "kernelspec": {
   "display_name": "Python 3 (ipykernel)",
   "language": "python",
   "name": "python3"
  },
  "language_info": {
   "codemirror_mode": {
    "name": "ipython",
    "version": 3
   },
   "file_extension": ".py",
   "mimetype": "text/x-python",
   "name": "python",
   "nbconvert_exporter": "python",
   "pygments_lexer": "ipython3",
   "version": "3.9.6"
  }
 },
 "nbformat": 4,
 "nbformat_minor": 5
}
