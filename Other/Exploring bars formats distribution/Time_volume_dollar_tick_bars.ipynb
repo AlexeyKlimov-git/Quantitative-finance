{
 "cells": [
  {
   "attachments": {},
   "cell_type": "markdown",
   "metadata": {},
   "source": [
    "**Problem**: Explore market data distributions in different formats.\n",
    "\n",
    "- Time Bars\n",
    "- Tick Bars\n",
    "- Volume Bars\n",
    "- Dollar Bars"
   ]
  },
  {
   "attachments": {},
   "cell_type": "markdown",
   "metadata": {},
   "source": [
    "**Data:** BTC trade tick information for one day"
   ]
  },
  {
   "cell_type": "code",
   "execution_count": 39,
   "metadata": {},
   "outputs": [],
   "source": [
    "import pandas as pd\n",
    "import numpy as np\n",
    "import matplotlib.pyplot as plt\n",
    "import datetime as dt"
   ]
  },
  {
   "cell_type": "code",
   "execution_count": 91,
   "metadata": {},
   "outputs": [],
   "source": [
    "trades = pd.read_csv('BTC.txt', header=None)"
   ]
  },
  {
   "cell_type": "code",
   "execution_count": 92,
   "metadata": {},
   "outputs": [],
   "source": [
    "used_columns = ['Time', 'Price', 'Volume', 'Exchange']\n",
    "trades.rename(columns={k:v for k, v in zip(list(range(4)), used_columns)}, inplace=True)"
   ]
  },
  {
   "cell_type": "code",
   "execution_count": 95,
   "metadata": {},
   "outputs": [
    {
     "data": {
      "text/html": [
       "<div>\n",
       "<style scoped>\n",
       "    .dataframe tbody tr th:only-of-type {\n",
       "        vertical-align: middle;\n",
       "    }\n",
       "\n",
       "    .dataframe tbody tr th {\n",
       "        vertical-align: top;\n",
       "    }\n",
       "\n",
       "    .dataframe thead th {\n",
       "        text-align: right;\n",
       "    }\n",
       "</style>\n",
       "<table border=\"1\" class=\"dataframe\">\n",
       "  <thead>\n",
       "    <tr style=\"text-align: right;\">\n",
       "      <th></th>\n",
       "      <th>Time</th>\n",
       "      <th>Price</th>\n",
       "      <th>Volume</th>\n",
       "      <th>Exchange</th>\n",
       "    </tr>\n",
       "  </thead>\n",
       "  <tbody>\n",
       "    <tr>\n",
       "      <th>0</th>\n",
       "      <td>2021-02-04 00:00:00:266</td>\n",
       "      <td>37623.92</td>\n",
       "      <td>0.04597</td>\n",
       "      <td>4</td>\n",
       "    </tr>\n",
       "    <tr>\n",
       "      <th>2</th>\n",
       "      <td>2021-02-04 00:00:00:535</td>\n",
       "      <td>37618.20</td>\n",
       "      <td>16.03296</td>\n",
       "      <td>4</td>\n",
       "    </tr>\n",
       "    <tr>\n",
       "      <th>29</th>\n",
       "      <td>2021-02-04 00:00:03:507</td>\n",
       "      <td>37624.02</td>\n",
       "      <td>11.92151</td>\n",
       "      <td>4</td>\n",
       "    </tr>\n",
       "    <tr>\n",
       "      <th>40</th>\n",
       "      <td>2021-02-04 00:00:06:434</td>\n",
       "      <td>37623.97</td>\n",
       "      <td>0.01331</td>\n",
       "      <td>4</td>\n",
       "    </tr>\n",
       "    <tr>\n",
       "      <th>45</th>\n",
       "      <td>2021-02-04 00:00:07:057</td>\n",
       "      <td>37625.13</td>\n",
       "      <td>3.08222</td>\n",
       "      <td>4</td>\n",
       "    </tr>\n",
       "  </tbody>\n",
       "</table>\n",
       "</div>"
      ],
      "text/plain": [
       "                       Time     Price    Volume  Exchange\n",
       "0   2021-02-04 00:00:00:266  37623.92   0.04597         4\n",
       "2   2021-02-04 00:00:00:535  37618.20  16.03296         4\n",
       "29  2021-02-04 00:00:03:507  37624.02  11.92151         4\n",
       "40  2021-02-04 00:00:06:434  37623.97   0.01331         4\n",
       "45  2021-02-04 00:00:07:057  37625.13   3.08222         4"
      ]
     },
     "execution_count": 95,
     "metadata": {},
     "output_type": "execute_result"
    }
   ],
   "source": [
    "# takes data only from one exchange\n",
    "trades = trades.loc[trades.Exchange == 4]\n",
    "trades.head()"
   ]
  },
  {
   "cell_type": "code",
   "execution_count": 99,
   "metadata": {},
   "outputs": [],
   "source": [
    "f = lambda x: x + '000' # ms to us\n",
    "trades.Time = trades.Time.apply(f)"
   ]
  },
  {
   "cell_type": "code",
   "execution_count": 108,
   "metadata": {},
   "outputs": [],
   "source": [
    "trades.Time = pd.to_datetime(trades.Time, errors='coerce', format='%Y-%m-%d %H:%M:%S:%f')\n",
    "trades.set_index('Time', inplace=True)"
   ]
  },
  {
   "cell_type": "code",
   "execution_count": 109,
   "metadata": {},
   "outputs": [
    {
     "data": {
      "text/html": [
       "<div>\n",
       "<style scoped>\n",
       "    .dataframe tbody tr th:only-of-type {\n",
       "        vertical-align: middle;\n",
       "    }\n",
       "\n",
       "    .dataframe tbody tr th {\n",
       "        vertical-align: top;\n",
       "    }\n",
       "\n",
       "    .dataframe thead th {\n",
       "        text-align: right;\n",
       "    }\n",
       "</style>\n",
       "<table border=\"1\" class=\"dataframe\">\n",
       "  <thead>\n",
       "    <tr style=\"text-align: right;\">\n",
       "      <th></th>\n",
       "      <th>Price</th>\n",
       "      <th>Volume</th>\n",
       "      <th>Exchange</th>\n",
       "    </tr>\n",
       "    <tr>\n",
       "      <th>Time</th>\n",
       "      <th></th>\n",
       "      <th></th>\n",
       "      <th></th>\n",
       "    </tr>\n",
       "  </thead>\n",
       "  <tbody>\n",
       "    <tr>\n",
       "      <th>2021-02-04 00:00:00.266</th>\n",
       "      <td>37623.92</td>\n",
       "      <td>0.04597</td>\n",
       "      <td>4</td>\n",
       "    </tr>\n",
       "    <tr>\n",
       "      <th>2021-02-04 00:00:00.535</th>\n",
       "      <td>37618.20</td>\n",
       "      <td>16.03296</td>\n",
       "      <td>4</td>\n",
       "    </tr>\n",
       "    <tr>\n",
       "      <th>2021-02-04 00:00:03.507</th>\n",
       "      <td>37624.02</td>\n",
       "      <td>11.92151</td>\n",
       "      <td>4</td>\n",
       "    </tr>\n",
       "    <tr>\n",
       "      <th>2021-02-04 00:00:06.434</th>\n",
       "      <td>37623.97</td>\n",
       "      <td>0.01331</td>\n",
       "      <td>4</td>\n",
       "    </tr>\n",
       "    <tr>\n",
       "      <th>2021-02-04 00:00:07.057</th>\n",
       "      <td>37625.13</td>\n",
       "      <td>3.08222</td>\n",
       "      <td>4</td>\n",
       "    </tr>\n",
       "  </tbody>\n",
       "</table>\n",
       "</div>"
      ],
      "text/plain": [
       "                            Price    Volume  Exchange\n",
       "Time                                                 \n",
       "2021-02-04 00:00:00.266  37623.92   0.04597         4\n",
       "2021-02-04 00:00:00.535  37618.20  16.03296         4\n",
       "2021-02-04 00:00:03.507  37624.02  11.92151         4\n",
       "2021-02-04 00:00:06.434  37623.97   0.01331         4\n",
       "2021-02-04 00:00:07.057  37625.13   3.08222         4"
      ]
     },
     "execution_count": 109,
     "metadata": {},
     "output_type": "execute_result"
    }
   ],
   "source": [
    "trades.head()"
   ]
  },
  {
   "cell_type": "code",
   "execution_count": 110,
   "metadata": {},
   "outputs": [
    {
     "data": {
      "text/plain": [
       "<AxesSubplot:xlabel='Time'>"
      ]
     },
     "execution_count": 110,
     "metadata": {},
     "output_type": "execute_result"
    },
    {
     "data": {
      "image/png": "[encoded data removed]",
      "text/plain": [
       "<Figure size 432x288 with 1 Axes>"
      ]
     },
     "metadata": {
      "needs_background": "light"
     },
     "output_type": "display_data"
    }
   ],
   "source": [
    "trades.Price.plot()"
   ]
  },
  {
   "attachments": {},
   "cell_type": "markdown",
   "metadata": {},
   "source": [
    "# 1. Time bars"
   ]
  },
  {
   "cell_type": "code",
   "execution_count": 112,
   "metadata": {},
   "outputs": [
    {
     "data": {
      "image/png": "[encoded data removed]",
      "text/plain": [
       "<Figure size 432x288 with 1 Axes>"
      ]
     },
     "metadata": {
      "needs_background": "light"
     },
     "output_type": "display_data"
    }
   ],
   "source": [
    "# Takes 5 mins intervals\n",
    "time_bars = trades.groupby(pd.Grouper(freq='5min')).agg({'Price': 'ohlc', 'Volume': 'sum'})\n",
    "time_bars_price = time_bars.loc[:, 'Price']\n",
    "time_bars_price\n",
    "time_bars = np.log(time_bars_price.close/time_bars_price.close.shift(1)).dropna()\n",
    "bin_len = 0.001\n",
    "plt.hist(time_bars, bins=np.arange(min(time_bars),max(time_bars)+bin_len, bin_len))\n",
    "plt.show()"
   ]
  },
  {
   "attachments": {},
   "cell_type": "markdown",
   "metadata": {},
   "source": [
    "What are the Issues?\n",
    "- oversampling information from low activity periods\n",
    "- undersampling information from high-activity periods\n",
    "- Time sampled data often have poor statistical properties (Easley, Lopez de Prado, and O’Hara [2011]):    \n",
    "- serial correlation: correlation of data with a delayed copy of itself (lag)     \n",
    "- heteroschedasticity: variance (residual term variation/error) changes over time    \n",
    "- nonnormality of returns \n",
    "\n",
    "This can cause issues in analysis: \n",
    "- Autocorrelation can cause problems in conventional analyses (such as ordinary least squares regression) that assume independence of observations. \n",
    "- Heteroscedasticity is a problem because ordinary least squares (OLS) regression assumes that all residuals are drawn from a population that has a constant variance (homoscedasticity). \n",
    "GARCH models were developed to deal with heteroschedasticity. By sampling price and volume information as a subordinated process of trading activity we can avoid this problem to begin with."
   ]
  },
  {
   "attachments": {},
   "cell_type": "markdown",
   "metadata": {},
   "source": [
    "# 2. Tick Bars"
   ]
  },
  {
   "cell_type": "code",
   "execution_count": 115,
   "metadata": {},
   "outputs": [],
   "source": [
    "# Helper bar function to construct / return a integer number of bars\n",
    "def bar(x, y):\n",
    "    return np.int64(x/y)*y"
   ]
  },
  {
   "cell_type": "code",
   "execution_count": 119,
   "metadata": {},
   "outputs": [
    {
     "data": {
      "image/png": "[encoded data removed]",
      "text/plain": [
       "<Figure size 432x288 with 1 Axes>"
      ]
     },
     "metadata": {
      "needs_background": "light"
     },
     "output_type": "display_data"
    }
   ],
   "source": [
    "transactions = 75 # For example, Open, High, Low, Close and Volume are sampled over 75 transactions\n",
    "\n",
    "tick_bars = trades.groupby(bar(np.arange(len(trades)), transactions)).agg({'Price': 'ohlc', 'Volume': 'sum'})\n",
    "tick_bars_price = tick_bars.loc[:, 'Price']\n",
    "tick_bars = np.log(tick_bars_price.close/tick_bars_price.close.shift(1)).dropna()\n",
    "bin_len = 0.0001\n",
    "plt.hist(tick_bars, bins=np.arange(min(tick_bars),max(tick_bars)+bin_len, bin_len))\n",
    "plt.show()"
   ]
  },
  {
   "attachments": {},
   "cell_type": "markdown",
   "metadata": {},
   "source": [
    "# 3. Volume Bars"
   ]
  },
  {
   "cell_type": "code",
   "execution_count": 124,
   "metadata": {},
   "outputs": [
    {
     "data": {
      "image/png": "[encoded data removed]",
      "text/plain": [
       "<Figure size 432x288 with 1 Axes>"
      ]
     },
     "metadata": {
      "needs_background": "light"
     },
     "output_type": "display_data"
    }
   ],
   "source": [
    "# Volume bars are sampled every time a pre-defined amount the the security’s units have been exchanged\n",
    "traded_volume = 10\n",
    "\n",
    "volume_bars = trades.groupby(bar(np.cumsum(trades['Volume']), traded_volume)).agg({'Price': 'ohlc', 'Volume': 'sum'})\n",
    "volume_bars_price = volume_bars.loc[:,'Price']\n",
    "\n",
    "volume_bars = np.log(volume_bars_price.close/volume_bars_price.close.shift(1)).dropna()\n",
    "bin_len = 0.0001\n",
    "plt.hist(volume_bars, bins=np.arange(min(volume_bars),max(volume_bars)+bin_len, bin_len))\n",
    "plt.show()"
   ]
  },
  {
   "attachments": {},
   "cell_type": "markdown",
   "metadata": {},
   "source": [
    "# 4. Dollar Bars"
   ]
  },
  {
   "cell_type": "code",
   "execution_count": 137,
   "metadata": {},
   "outputs": [],
   "source": [
    "trades['Value'] = trades.apply(lambda row: row.Price * row.Volume, axis=1)"
   ]
  },
  {
   "cell_type": "code",
   "execution_count": 138,
   "metadata": {},
   "outputs": [
    {
     "data": {
      "text/html": [
       "<div>\n",
       "<style scoped>\n",
       "    .dataframe tbody tr th:only-of-type {\n",
       "        vertical-align: middle;\n",
       "    }\n",
       "\n",
       "    .dataframe tbody tr th {\n",
       "        vertical-align: top;\n",
       "    }\n",
       "\n",
       "    .dataframe thead th {\n",
       "        text-align: right;\n",
       "    }\n",
       "</style>\n",
       "<table border=\"1\" class=\"dataframe\">\n",
       "  <thead>\n",
       "    <tr style=\"text-align: right;\">\n",
       "      <th></th>\n",
       "      <th>Price</th>\n",
       "      <th>Volume</th>\n",
       "      <th>Exchange</th>\n",
       "      <th>Value</th>\n",
       "    </tr>\n",
       "    <tr>\n",
       "      <th>Time</th>\n",
       "      <th></th>\n",
       "      <th></th>\n",
       "      <th></th>\n",
       "      <th></th>\n",
       "    </tr>\n",
       "  </thead>\n",
       "  <tbody>\n",
       "    <tr>\n",
       "      <th>2021-02-04 00:00:00.266</th>\n",
       "      <td>37623.92</td>\n",
       "      <td>0.04597</td>\n",
       "      <td>4</td>\n",
       "      <td>1729.571602</td>\n",
       "    </tr>\n",
       "    <tr>\n",
       "      <th>2021-02-04 00:00:00.535</th>\n",
       "      <td>37618.20</td>\n",
       "      <td>16.03296</td>\n",
       "      <td>4</td>\n",
       "      <td>603131.095872</td>\n",
       "    </tr>\n",
       "    <tr>\n",
       "      <th>2021-02-04 00:00:03.507</th>\n",
       "      <td>37624.02</td>\n",
       "      <td>11.92151</td>\n",
       "      <td>4</td>\n",
       "      <td>448535.130670</td>\n",
       "    </tr>\n",
       "    <tr>\n",
       "      <th>2021-02-04 00:00:06.434</th>\n",
       "      <td>37623.97</td>\n",
       "      <td>0.01331</td>\n",
       "      <td>4</td>\n",
       "      <td>500.775041</td>\n",
       "    </tr>\n",
       "    <tr>\n",
       "      <th>2021-02-04 00:00:07.057</th>\n",
       "      <td>37625.13</td>\n",
       "      <td>3.08222</td>\n",
       "      <td>4</td>\n",
       "      <td>115968.928189</td>\n",
       "    </tr>\n",
       "  </tbody>\n",
       "</table>\n",
       "</div>"
      ],
      "text/plain": [
       "                            Price    Volume  Exchange          Value\n",
       "Time                                                                \n",
       "2021-02-04 00:00:00.266  37623.92   0.04597         4    1729.571602\n",
       "2021-02-04 00:00:00.535  37618.20  16.03296         4  603131.095872\n",
       "2021-02-04 00:00:03.507  37624.02  11.92151         4  448535.130670\n",
       "2021-02-04 00:00:06.434  37623.97   0.01331         4     500.775041\n",
       "2021-02-04 00:00:07.057  37625.13   3.08222         4  115968.928189"
      ]
     },
     "execution_count": 138,
     "metadata": {},
     "output_type": "execute_result"
    }
   ],
   "source": [
    "trades.head()"
   ]
  },
  {
   "cell_type": "code",
   "execution_count": 140,
   "metadata": {},
   "outputs": [
    {
     "data": {
      "text/html": [
       "<div>\n",
       "<style scoped>\n",
       "    .dataframe tbody tr th:only-of-type {\n",
       "        vertical-align: middle;\n",
       "    }\n",
       "\n",
       "    .dataframe tbody tr th {\n",
       "        vertical-align: top;\n",
       "    }\n",
       "\n",
       "    .dataframe thead th {\n",
       "        text-align: right;\n",
       "    }\n",
       "</style>\n",
       "<table border=\"1\" class=\"dataframe\">\n",
       "  <thead>\n",
       "    <tr style=\"text-align: right;\">\n",
       "      <th></th>\n",
       "      <th>Price</th>\n",
       "      <th>Volume</th>\n",
       "      <th>Exchange</th>\n",
       "      <th>Value</th>\n",
       "    </tr>\n",
       "  </thead>\n",
       "  <tbody>\n",
       "    <tr>\n",
       "      <th>count</th>\n",
       "      <td>71816.000000</td>\n",
       "      <td>71816.000000</td>\n",
       "      <td>71816.0</td>\n",
       "      <td>7.181600e+04</td>\n",
       "    </tr>\n",
       "    <tr>\n",
       "      <th>mean</th>\n",
       "      <td>37466.865238</td>\n",
       "      <td>0.372199</td>\n",
       "      <td>4.0</td>\n",
       "      <td>1.394987e+04</td>\n",
       "    </tr>\n",
       "    <tr>\n",
       "      <th>std</th>\n",
       "      <td>474.313014</td>\n",
       "      <td>2.284762</td>\n",
       "      <td>0.0</td>\n",
       "      <td>8.567468e+04</td>\n",
       "    </tr>\n",
       "    <tr>\n",
       "      <th>min</th>\n",
       "      <td>36147.430000</td>\n",
       "      <td>0.000010</td>\n",
       "      <td>4.0</td>\n",
       "      <td>3.614934e-01</td>\n",
       "    </tr>\n",
       "    <tr>\n",
       "      <th>25%</th>\n",
       "      <td>37160.375000</td>\n",
       "      <td>0.000790</td>\n",
       "      <td>4.0</td>\n",
       "      <td>2.962176e+01</td>\n",
       "    </tr>\n",
       "    <tr>\n",
       "      <th>50%</th>\n",
       "      <td>37491.140000</td>\n",
       "      <td>0.007530</td>\n",
       "      <td>4.0</td>\n",
       "      <td>2.824842e+02</td>\n",
       "    </tr>\n",
       "    <tr>\n",
       "      <th>75%</th>\n",
       "      <td>37786.680000</td>\n",
       "      <td>0.036830</td>\n",
       "      <td>4.0</td>\n",
       "      <td>1.377197e+03</td>\n",
       "    </tr>\n",
       "    <tr>\n",
       "      <th>max</th>\n",
       "      <td>38706.000000</td>\n",
       "      <td>36.876420</td>\n",
       "      <td>4.0</td>\n",
       "      <td>1.368779e+06</td>\n",
       "    </tr>\n",
       "  </tbody>\n",
       "</table>\n",
       "</div>"
      ],
      "text/plain": [
       "              Price        Volume  Exchange         Value\n",
       "count  71816.000000  71816.000000   71816.0  7.181600e+04\n",
       "mean   37466.865238      0.372199       4.0  1.394987e+04\n",
       "std      474.313014      2.284762       0.0  8.567468e+04\n",
       "min    36147.430000      0.000010       4.0  3.614934e-01\n",
       "25%    37160.375000      0.000790       4.0  2.962176e+01\n",
       "50%    37491.140000      0.007530       4.0  2.824842e+02\n",
       "75%    37786.680000      0.036830       4.0  1.377197e+03\n",
       "max    38706.000000     36.876420       4.0  1.368779e+06"
      ]
     },
     "execution_count": 140,
     "metadata": {},
     "output_type": "execute_result"
    }
   ],
   "source": [
    "trades.describe()"
   ]
  },
  {
   "cell_type": "code",
   "execution_count": 141,
   "metadata": {},
   "outputs": [
    {
     "data": {
      "image/png": "[encoded data removed]",
      "text/plain": [
       "<Figure size 432x288 with 1 Axes>"
      ]
     },
     "metadata": {
      "needs_background": "light"
     },
     "output_type": "display_data"
    }
   ],
   "source": [
    "# Dollar bars are formed by sampling an observation every time a pre-defined market value is exchanged\n",
    "market_value = 0.37\n",
    "\n",
    "dollar_bars = trades.groupby(bar(np.cumsum(trades['Value']), market_value)).agg({'Price': 'ohlc', 'Volume':'sum'})\n",
    "dollar_bars_price = dollar_bars.loc[:,'Price']\n",
    "\n",
    "dollar_bars = np.log(dollar_bars_price.close/dollar_bars_price.close.shift(1)).dropna()\n",
    "bin_len = 0.0001\n",
    "plt.hist(dollar_bars, bins=np.arange(min(dollar_bars),max(dollar_bars)+bin_len, bin_len))\n",
    "plt.show()"
   ]
  },
  {
   "attachments": {},
   "cell_type": "markdown",
   "metadata": {},
   "source": [
    "# Plot distributions"
   ]
  },
  {
   "cell_type": "code",
   "execution_count": 201,
   "metadata": {},
   "outputs": [
    {
     "data": {
      "text/plain": [
       "<matplotlib.legend.Legend at 0x16b8e661190>"
      ]
     },
     "execution_count": 201,
     "metadata": {},
     "output_type": "execute_result"
    },
    {
     "data": {
      "image/png": "[encoded data removed]",
      "text/plain": [
       "<Figure size 432x288 with 2 Axes>"
      ]
     },
     "metadata": {
      "needs_background": "light"
     },
     "output_type": "display_data"
    }
   ],
   "source": [
    "import matplotlib.pyplot as plt\n",
    "import numpy as np\n",
    "from scipy import stats\n",
    "import seaborn as sns\n",
    "cdmx_edad = np.random.normal(0, 20,10000)+10\n",
    "ed_sup_edad = dollar_bars\n",
    "dollar_bars = np.log(dollar_bars_price.close/dollar_bars_price.close.shift(1)).dropna()\n",
    "volume_bars = np.log(volume_bars_price.close/volume_bars_price.close.shift(1)).dropna()\n",
    "tick_bars = np.log(tick_bars_price.close/tick_bars_price.close.shift(1)).dropna()\n",
    "time_bars = np.log(time_bars_price.close/time_bars_price.close.shift(1)).dropna()\n",
    "\n",
    "\n",
    "fig, (ax1, ax2) = plt.subplots(nrows=2, sharex=True)\n",
    "bin_len = 0.001\n",
    "ax1.hist(time_bars, bins=np.arange(min(time_bars),max(time_bars)+bin_len, bin_len),alpha=0.4, label='Time Bars')\n",
    "bin_len = 0.0001\n",
    "ax1.hist(tick_bars, bins=np.arange(min(tick_bars),max(tick_bars)+bin_len, bin_len),alpha=0.4, label='Tick Bars')\n",
    "ax1.hist(volume_bars, bins=np.arange(min(volume_bars),max(volume_bars)+bin_len, bin_len),alpha=0.4, label='Volume Bars')\n",
    "ax1.legend()\n",
    "\n",
    "\n",
    "ax2.hist(dollar_bars, bins=np.arange(min(dollar_bars),max(dollar_bars)+bin_len, bin_len),alpha=0.4, label='Dollar Bars')\n",
    "ax2.legend()"
   ]
  },
  {
   "cell_type": "code",
   "execution_count": null,
   "metadata": {},
   "outputs": [],
   "source": []
  }
 ],
 "metadata": {
  "kernelspec": {
   "display_name": "Python 3.9.6 64-bit",
   "language": "python",
   "name": "python3"
  },
  "language_info": {
   "codemirror_mode": {
    "name": "ipython",
    "version": 3
   },
   "file_extension": ".py",
   "mimetype": "text/x-python",
   "name": "python",
   "nbconvert_exporter": "python",
   "pygments_lexer": "ipython3",
   "version": "3.9.6"
  },
  "vscode": {
   "interpreter": {
    "hash": "ed440b3e73603ead034bbc1aefc87f16e1dad4a3e4cb3fbfb79233b646712d77"
   }
  }
 },
 "nbformat": 4,
 "nbformat_minor": 1
}
